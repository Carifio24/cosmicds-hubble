{
 "cells": [
  {
   "cell_type": "code",
   "execution_count": 1,
   "metadata": {
    "pycharm": {
     "name": "#%%\n"
    },
    "scrolled": false
   },
   "outputs": [
    {
     "name": "stdout",
     "output_type": "stream",
     "text": [
      "REGISTERING guideline_trend_lines1\n",
      "REGISTERING guideline_age_universe\n",
      "REGISTERING guideline_imperfect_measurements1\n",
      "REGISTERING guideline_shortcomings_est2\n",
      "REGISTERING guideline_true_age_issues1\n",
      "REGISTERING guideline_class_age_range4\n",
      "REGISTERING guideline_best_fit_line\n",
      "REGISTERING guideline_relationship_age_slope_mc\n",
      "REGISTERING guideline_trend_lines_draw2_c\n",
      "REGISTERING guideline_imperfect_assumptions1\n",
      "REGISTERING guideline_trend_lines_draw2\n",
      "REGISTERING guideline_class_age_range3\n",
      "REGISTERING guideline_class_age_range2\n",
      "REGISTERING guideline_confidence_interval\n",
      "REGISTERING guideline_best_fit_line_c\n",
      "REGISTERING guideline_class_age_distribution_c\n",
      "REGISTERING guideline_shortcomings_est_reflect1\n",
      "REGISTERING guideline_trends_data2\n",
      "REGISTERING guideline_explore_data\n",
      "REGISTERING guideline_shortcomings_est_reflect4\n",
      "REGISTERING guideline_relationship_vel_dist_mc\n",
      "REGISTERING guideline_more_data_distribution\n",
      "REGISTERING guideline_your_age_estimate\n",
      "REGISTERING guideline_uncertainties_random1\n",
      "REGISTERING guideline_true_age1\n",
      "REGISTERING guideline_class_age_distribution\n",
      "REGISTERING guideline_imperfect_methods1\n",
      "REGISTERING guideline_hubbles_expanding_universe1\n",
      "REGISTERING guideline_true_age2\n",
      "REGISTERING guideline_hypothetical_galaxy\n",
      "REGISTERING guideline_random_variability\n",
      "REGISTERING guideline_lack_bias_mc1\n",
      "REGISTERING guideline_two_histograms_mc2\n",
      "REGISTERING guideline_uncertainties_systematic2\n",
      "REGISTERING guideline_age_race_equation\n",
      "REGISTERING guideline_classmates_results\n",
      "REGISTERING guideline_uncertainties_systematic1\n",
      "REGISTERING guideline_lack_bias_reflect3\n",
      "REGISTERING guideline_classmates_results_c\n",
      "REGISTERING guideline_lack_bias_reflect2\n",
      "REGISTERING guideline_two_histograms1\n",
      "REGISTERING guideline_account_uncertainty\n",
      "REGISTERING guideline_doppler_calc_4\n",
      "REGISTERING guideline_doppler_calc_6\n",
      "REGISTERING guideline_doppler_calc_2\n",
      "REGISTERING guideline_intro_guidelines\n",
      "REGISTERING guideline_doppler_calc_3\n",
      "REGISTERING guideline_doppler_calc_1\n",
      "REGISTERING guideline_choose_row\n",
      "REGISTERING guideline_doppler_calc_0\n",
      "REGISTERING guideline_select_galaxies_2\n",
      "REGISTERING guideline_reflect_on_data\n",
      "REGISTERING guideline_select_galaxies_3\n",
      "REGISTERING guideline_select_galaxies_1\n",
      "REGISTERING guideline_notice_galaxy_table\n",
      "REGISTERING reflect_velocity_windows\n",
      "REGISTERING slideshow_doppler_calc_5\n",
      "REGISTERING guideline_obswave_1\n",
      "REGISTERING guideline_obswave_2\n",
      "REGISTERING guideline_restwave\n",
      "REGISTERING guideline_spectrum\n",
      "REGISTERING guideline_remaining_gals\n",
      "REGISTERING guideline_angsize_meas5\n",
      "REGISTERING guideline_angsize_meas4\n",
      "REGISTERING guideline_angsize_meas6\n",
      "REGISTERING guideline_angsize_meas3\n",
      "REGISTERING guideline_angsize_meas2\n",
      "REGISTERING guideline_repeat_remaining_galaxies\n",
      "REGISTERING guideline_angsize_meas1\n",
      "REGISTERING guideline_fill_remaining_galaxies\n",
      "REGISTERING guideline_angsize_meas5a\n",
      "REGISTERING guideline_estimate_distance1\n",
      "REGISTERING stage_two_holder_alert\n",
      "REGISTERING guideline_choose_row2\n",
      "REGISTERING guideline_angsize_meas2b\n",
      "REGISTERING guideline_choose_row1\n",
      "Student ID: 0\n",
      "Class ID: 0\n"
     ]
    },
    {
     "data": {
      "application/vnd.jupyter.widget-view+json": {
       "model_id": "f45e5ba42efa4e538c73a415f2b4ec7e",
       "version_major": 2,
       "version_minor": 0
      },
      "text/plain": [
       "Application(app_state=<ApplicationState\n",
       "  allow_advancing: False\n",
       "  classroom: {'id': 0}\n",
       "  dark_mode: True\n",
       "  sh…"
      ]
     },
     "metadata": {},
     "output_type": "display_data"
    },
    {
     "name": "stdout",
     "output_type": "stream",
     "text": [
      "Stage Index:  1\n",
      "Stage Index:  1\n"
     ]
    },
    {
     "name": "stderr",
     "output_type": "stream",
     "text": [
      "/Users/nmearl/projects/hubbleds/src/hubbleds/components/selection_tool/selection_tool.py:110: FutureWarning: The frame.append method is deprecated and will be removed from pandas in a future version. Use pandas.concat instead.\n",
      "  self.selected_data = self.selected_data.append(galaxy,\n"
     ]
    }
   ],
   "source": [
    "from warnings import filterwarnings\n",
    "\n",
    "filterwarnings(action=\"ignore\", category=UserWarning)\n",
    "\n",
    "from cosmicds.app import Application\n",
    "\n",
    "\n",
    "app = Application(story='hubbles_law', update_db=True, show_team_interface=False, allow_advancing=False, create_new_student=False)\n",
    "# app = Application(story='hubbles_law', update_db=True, show_team_interface=True, allow_advancing=True, student_id=2250)\n",
    "\n",
    "app"
   ]
  },
  {
   "cell_type": "code",
   "execution_count": 2,
   "metadata": {
    "pycharm": {
     "name": "#%%\n"
    }
   },
   "outputs": [],
   "source": [
    "# Run this to close the side menu\n",
    "# app.drawer= False"
   ]
  },
  {
   "cell_type": "code",
   "execution_count": 3,
   "metadata": {},
   "outputs": [],
   "source": [
    "# app.app_state.dark_mode = False"
   ]
  },
  {
   "cell_type": "code",
   "execution_count": null,
   "metadata": {},
   "outputs": [],
   "source": []
  }
 ],
 "metadata": {
  "kernelspec": {
   "display_name": "Python 3 (ipykernel)",
   "language": "python",
   "name": "python3"
  },
  "language_info": {
   "codemirror_mode": {
    "name": "ipython",
    "version": 3
   },
   "file_extension": ".py",
   "mimetype": "text/x-python",
   "name": "python",
   "nbconvert_exporter": "python",
   "pygments_lexer": "ipython3",
   "version": "3.9.13"
  },
  "vscode": {
   "interpreter": {
    "hash": "31f2aee4e71d21fbe5cf8b01ff0e069b9275f58929596ceb00d14d90e3e16cd6"
   }
  }
 },
 "nbformat": 4,
 "nbformat_minor": 2
}
