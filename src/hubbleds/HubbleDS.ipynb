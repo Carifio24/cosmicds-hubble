{
 "cells": [
  {
   "cell_type": "code",
   "execution_count": 1,
   "metadata": {
    "pycharm": {
     "name": "#%%\n"
    },
    "scrolled": false
   },
   "outputs": [
    {
     "data": {
      "application/vnd.jupyter.widget-view+json": {
       "model_id": "4041b0ef51bf4bd0845f6e4c75e8b9b3",
       "version_major": 2,
       "version_minor": 0
      },
      "text/plain": [
       "Application(app_state=<ApplicationState\n",
       "  classroom: {'id': 0}\n",
       "  dark_mode: True\n",
       "  show_team_interface: True\n",
       " …"
      ]
     },
     "metadata": {},
     "output_type": "display_data"
    },
    {
     "name": "stderr",
     "output_type": "stream",
     "text": [
      "/Users/johnlewis/Dropbox/Mac/Documents/github/cosmicds_dev/hubbleds/src/hubbleds/components/selection_tool/selection_tool.py:90: FutureWarning: The frame.append method is deprecated and will be removed from pandas in a future version. Use pandas.concat instead.\n",
      "  self.selected_data = self.selected_data.append(galaxy,\n",
      "/Users/johnlewis/Dropbox/Mac/Documents/github/cosmicds_dev/hubbleds/src/hubbleds/components/selection_tool/selection_tool.py:90: FutureWarning: The frame.append method is deprecated and will be removed from pandas in a future version. Use pandas.concat instead.\n",
      "  self.selected_data = self.selected_data.append(galaxy,\n",
      "/Users/johnlewis/Dropbox/Mac/Documents/github/cosmicds_dev/hubbleds/src/hubbleds/components/selection_tool/selection_tool.py:90: FutureWarning: The frame.append method is deprecated and will be removed from pandas in a future version. Use pandas.concat instead.\n",
      "  self.selected_data = self.selected_data.append(galaxy,\n",
      "/Users/johnlewis/Dropbox/Mac/Documents/github/cosmicds_dev/hubbleds/src/hubbleds/components/selection_tool/selection_tool.py:90: FutureWarning: The frame.append method is deprecated and will be removed from pandas in a future version. Use pandas.concat instead.\n",
      "  self.selected_data = self.selected_data.append(galaxy,\n",
      "/Users/johnlewis/Dropbox/Mac/Documents/github/cosmicds_dev/hubbleds/src/hubbleds/components/selection_tool/selection_tool.py:90: FutureWarning: The frame.append method is deprecated and will be removed from pandas in a future version. Use pandas.concat instead.\n",
      "  self.selected_data = self.selected_data.append(galaxy,\n"
     ]
    },
    {
     "name": "stdout",
     "output_type": "stream",
     "text": [
      "step: 1\n",
      "step: 2\n",
      "step: 0\n",
      "step: 1\n",
      "step: 2\n",
      "step: 0\n"
     ]
    }
   ],
   "source": [
    "from warnings import filterwarnings\n",
    "\n",
    "filterwarnings(action=\"ignore\", category=UserWarning)\n",
    "\n",
    "from cosmicds.app import Application\n",
    "\n",
    "app = Application(story='hubbles_law', update_db=False, show_team_interface=False)\n",
    "\n",
    "app"
   ]
  },
  {
   "cell_type": "code",
   "execution_count": 2,
   "metadata": {
    "pycharm": {
     "name": "#%%\n"
    }
   },
   "outputs": [],
   "source": [
    "# Run this to close the side menu\n",
    "# app.drawer= False"
   ]
  },
  {
   "cell_type": "code",
   "execution_count": 2,
   "metadata": {},
   "outputs": [],
   "source": [
    "# app.app_state.dark_mode = False"
   ]
  },
  {
   "cell_type": "code",
   "execution_count": null,
   "metadata": {},
   "outputs": [],
   "source": []
  }
 ],
 "metadata": {
  "interpreter": {
   "hash": "9135a59f2b6bc37e899a88e2ebe01548838ca5623932be13039ab85d3fb056ba"
  },
  "kernelspec": {
   "display_name": "Python 3 (ipykernel)",
   "language": "python",
   "name": "python3"
  },
  "language_info": {
   "codemirror_mode": {
    "name": "ipython",
    "version": 3
   },
   "file_extension": ".py",
   "mimetype": "text/x-python",
   "name": "python",
   "nbconvert_exporter": "python",
   "pygments_lexer": "ipython3",
   "version": "3.9.13"
  }
 },
 "nbformat": 4,
 "nbformat_minor": 2
}