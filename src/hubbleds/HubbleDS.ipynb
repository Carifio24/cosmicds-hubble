{
 "cells": [
  {
   "cell_type": "code",
   "execution_count": 1,
   "metadata": {
    "pycharm": {
     "name": "#%%\n"
    },
    "scrolled": false
   },
   "outputs": [
    {
     "name": "stdout",
     "output_type": "stream",
     "text": [
      "REGISTERING form_dialog\n",
      "REGISTERING hinttext_alert\n",
      "REGISTERING responsedialog_alert\n",
      "REGISTERING scaffold_alert\n",
      "REGISTERING snackbar_alert\n",
      "REGISTERING infodialog_alert\n",
      "REGISTERING mc_radiogroup\n",
      "REGISTERING help_dialog\n",
      "REGISTERING custom_stepper\n",
      "REGISTERING teamaside_alert\n",
      "REGISTERING todo_alert\n",
      "REGISTERING free_response\n",
      "REGISTERING video_dialog\n",
      "REGISTERING dialog_carousel\n",
      "REGISTERING guideline_trend_lines1\n",
      "REGISTERING guideline_age_universe\n",
      "REGISTERING guideline_imperfect_measurements1\n",
      "REGISTERING guideline_shortcomings_est2\n",
      "REGISTERING guideline_true_age_issues1\n",
      "REGISTERING guideline_class_age_range4\n",
      "REGISTERING guideline_best_fit_line\n",
      "REGISTERING guideline_relationship_age_slope_mc\n",
      "REGISTERING guideline_trend_lines_draw2_c\n",
      "REGISTERING guideline_imperfect_assumptions1\n",
      "REGISTERING guideline_trend_lines_draw2\n",
      "REGISTERING guideline_class_age_range3\n",
      "REGISTERING guideline_class_age_range2\n",
      "REGISTERING guideline_confidence_interval\n",
      "REGISTERING guideline_best_fit_line_c\n",
      "REGISTERING guideline_class_age_distribution_c\n",
      "REGISTERING guideline_shortcomings_est_reflect1\n",
      "REGISTERING guideline_trends_data2\n",
      "REGISTERING guideline_explore_data\n",
      "REGISTERING guideline_shortcomings_est_reflect4\n",
      "REGISTERING guideline_relationship_vel_dist_mc\n",
      "REGISTERING guideline_more_data_distribution\n",
      "REGISTERING guideline_your_age_estimate\n",
      "REGISTERING guideline_uncertainties_random1\n",
      "REGISTERING guideline_true_age1\n",
      "REGISTERING guideline_class_age_distribution\n",
      "REGISTERING guideline_imperfect_methods1\n",
      "REGISTERING guideline_hubbles_expanding_universe1\n",
      "REGISTERING guideline_true_age2\n",
      "REGISTERING guideline_hypothetical_galaxy\n",
      "REGISTERING guideline_random_variability\n",
      "REGISTERING guideline_lack_bias_mc1\n",
      "REGISTERING guideline_two_histograms_mc2\n",
      "REGISTERING guideline_uncertainties_systematic2\n",
      "REGISTERING guideline_age_race_equation\n",
      "REGISTERING guideline_classmates_results\n",
      "REGISTERING guideline_uncertainties_systematic1\n",
      "REGISTERING guideline_lack_bias_reflect3\n",
      "REGISTERING guideline_classmates_results_c\n",
      "REGISTERING guideline_lack_bias_reflect2\n",
      "REGISTERING guideline_two_histograms1\n",
      "REGISTERING guideline_account_uncertainty\n",
      "REGISTERING guideline_doppler_calc_4\n",
      "REGISTERING guideline_doppler_calc_6\n",
      "REGISTERING guideline_doppler_calc_2\n",
      "REGISTERING guideline_intro_guidelines\n",
      "REGISTERING guideline_doppler_calc_3\n",
      "REGISTERING guideline_doppler_calc_1\n",
      "REGISTERING guideline_choose_row\n",
      "REGISTERING guideline_doppler_calc_0\n",
      "REGISTERING guideline_select_galaxies_2\n",
      "REGISTERING guideline_reflect_on_data\n",
      "REGISTERING guideline_select_galaxies_3\n",
      "REGISTERING guideline_select_galaxies_1\n",
      "REGISTERING guideline_notice_galaxy_table\n",
      "REGISTERING reflect_velocity_windows\n",
      "REGISTERING slideshow_doppler_calc_5\n",
      "REGISTERING guideline_obswave_1\n",
      "REGISTERING guideline_obswave_2\n",
      "REGISTERING guideline_restwave\n",
      "REGISTERING guideline_spectrum\n",
      "REGISTERING guideline_remaining_gals\n",
      "REGISTERING guideline_angsize_meas5\n",
      "REGISTERING guideline_angsize_meas4\n",
      "REGISTERING guideline_angsize_meas6\n",
      "REGISTERING guideline_angsize_meas3\n",
      "REGISTERING guideline_angsize_meas2\n",
      "REGISTERING guideline_repeat_remaining_galaxies\n",
      "REGISTERING guideline_angsize_meas1\n",
      "REGISTERING guideline_fill_remaining_galaxies\n",
      "REGISTERING guideline_angsize_meas5a\n",
      "REGISTERING guideline_estimate_distance1\n",
      "REGISTERING stage_two_holder_alert\n",
      "REGISTERING guideline_choose_row2\n",
      "REGISTERING guideline_angsize_meas2b\n",
      "REGISTERING guideline_choose_row1\n",
      "Student ID: 0\n",
      "Class ID: 0\n"
     ]
    },
    {
     "data": {
      "application/vnd.jupyter.widget-view+json": {
       "model_id": "41bb529fa0d74b42b7006f78020d2b68",
       "version_major": 2,
       "version_minor": 0
      },
      "text/plain": [
       "Application(app_state=<ApplicationState\n",
       "  allow_advancing: False\n",
       "  classroom: {'id': 0}\n",
       "  dark_mode: True\n",
       "  sh…"
      ]
     },
     "metadata": {},
     "output_type": "display_data"
    },
    {
     "name": "stdout",
     "output_type": "stream",
     "text": [
      "Stage Index:  1\n"
     ]
    },
    {
     "name": "stderr",
     "output_type": "stream",
     "text": [
      "/Users/nmearl/projects/hubbleds/src/hubbleds/components/selection_tool/selection_tool.py:103: FutureWarning: The frame.append method is deprecated and will be removed from pandas in a future version. Use pandas.concat instead.\n",
      "  self.selected_data = self.selected_data.append(galaxy,\n",
      "/Users/nmearl/projects/hubbleds/src/hubbleds/components/selection_tool/selection_tool.py:103: FutureWarning: The frame.append method is deprecated and will be removed from pandas in a future version. Use pandas.concat instead.\n",
      "  self.selected_data = self.selected_data.append(galaxy,\n",
      "/Users/nmearl/projects/hubbleds/src/hubbleds/components/selection_tool/selection_tool.py:103: FutureWarning: The frame.append method is deprecated and will be removed from pandas in a future version. Use pandas.concat instead.\n",
      "  self.selected_data = self.selected_data.append(galaxy,\n",
      "/Users/nmearl/projects/hubbleds/src/hubbleds/components/selection_tool/selection_tool.py:103: FutureWarning: The frame.append method is deprecated and will be removed from pandas in a future version. Use pandas.concat instead.\n",
      "  self.selected_data = self.selected_data.append(galaxy,\n",
      "/Users/nmearl/projects/hubbleds/src/hubbleds/components/selection_tool/selection_tool.py:103: FutureWarning: The frame.append method is deprecated and will be removed from pandas in a future version. Use pandas.concat instead.\n",
      "  self.selected_data = self.selected_data.append(galaxy,\n"
     ]
    }
   ],
   "source": [
    "from warnings import filterwarnings\n",
    "\n",
    "filterwarnings(action=\"ignore\", category=UserWarning)\n",
    "\n",
    "from cosmicds.app import Application\n",
    "\n",
    "\n",
    "app = Application(story='hubbles_law', update_db=True, show_team_interface=True, allow_advancing=False, create_new_student=False)\n",
    "# app = Application(story='hubbles_law', update_db=True, show_team_interface=True, allow_advancing=True, student_id=2250)\n",
    "\n",
    "app"
   ]
  },
  {
   "cell_type": "code",
   "execution_count": 2,
   "metadata": {},
   "outputs": [
    {
     "data": {
      "text/plain": [
       "dict_items([('step', 0), ('length', 6), ('currentTitle', 'Doppler Calculation'), ('failedValidation4', False), ('failedValidation5', False), ('interactSteps5', <CallbackList with 2 elements>), ('maxStepCompleted5', 0), ('studentc', 0), ('student_vel_calc', False), ('complete', False)])"
      ]
     },
     "execution_count": 2,
     "metadata": {},
     "output_type": "execute_result"
    }
   ],
   "source": [
    "state = app.story_state.stages[1]['state'].doppler_calc_state.items()\n",
    "state"
   ]
  },
  {
   "cell_type": "code",
   "execution_count": null,
   "metadata": {},
   "outputs": [],
   "source": []
  },
  {
   "cell_type": "code",
   "execution_count": 3,
   "metadata": {
    "pycharm": {
     "name": "#%%\n"
    }
   },
   "outputs": [
    {
     "ename": "AttributeError",
     "evalue": "'dict_items' object has no attribute 'is_callback_property'",
     "output_type": "error",
     "traceback": [
      "\u001b[0;31m---------------------------------------------------------------------------\u001b[0m",
      "\u001b[0;31mAttributeError\u001b[0m                            Traceback (most recent call last)",
      "Cell \u001b[0;32mIn [3], line 5\u001b[0m\n\u001b[1;32m      2\u001b[0m \u001b[38;5;28;01mfrom\u001b[39;00m \u001b[38;5;21;01mglue_jupyter\u001b[39;00m\u001b[38;5;21;01m.\u001b[39;00m\u001b[38;5;21;01mstate_traitlets_helpers\u001b[39;00m \u001b[38;5;28;01mimport\u001b[39;00m GlueStateJSONEncoder, state_to_dict\n\u001b[1;32m      3\u001b[0m \u001b[38;5;28;01mimport\u001b[39;00m \u001b[38;5;21;01mjson\u001b[39;00m\n\u001b[0;32m----> 5\u001b[0m json\u001b[38;5;241m.\u001b[39mloads(json\u001b[38;5;241m.\u001b[39mdumps(state_to_dict(state), \u001b[38;5;28mcls\u001b[39m\u001b[38;5;241m=\u001b[39mGlueStateJSONEncoder))\n",
      "File \u001b[0;32m~/projects/glue-jupyter/glue_jupyter/state_traitlets_helpers.py:21\u001b[0m, in \u001b[0;36mstate_to_dict\u001b[0;34m(state)\u001b[0m\n\u001b[1;32m     19\u001b[0m changes \u001b[38;5;241m=\u001b[39m {}\n\u001b[1;32m     20\u001b[0m \u001b[38;5;28;01mfor\u001b[39;00m name \u001b[38;5;129;01min\u001b[39;00m \u001b[38;5;28mdir\u001b[39m(state):\n\u001b[0;32m---> 21\u001b[0m     \u001b[38;5;28;01mif\u001b[39;00m \u001b[38;5;129;01mnot\u001b[39;00m name\u001b[38;5;241m.\u001b[39mstartswith(\u001b[38;5;124m'\u001b[39m\u001b[38;5;124m_\u001b[39m\u001b[38;5;124m'\u001b[39m) \u001b[38;5;129;01mand\u001b[39;00m \u001b[43mstate\u001b[49m\u001b[38;5;241;43m.\u001b[39;49m\u001b[43mis_callback_property\u001b[49m(name):\n\u001b[1;32m     22\u001b[0m         item \u001b[38;5;241m=\u001b[39m \u001b[38;5;28mgetattr\u001b[39m(state, name)\n\u001b[1;32m     23\u001b[0m         \u001b[38;5;28;01mif\u001b[39;00m \u001b[38;5;28misinstance\u001b[39m(item, CallbackList):\n",
      "\u001b[0;31mAttributeError\u001b[0m: 'dict_items' object has no attribute 'is_callback_property'"
     ]
    }
   ],
   "source": [
    "from echo import CallbackList, CallbackDict\n",
    "from glue_jupyter.state_traitlets_helpers import GlueStateJSONEncoder, state_to_dict\n",
    "import json\n",
    "            \n",
    "json.loads(json.dumps(state_to_dict(state), cls=GlueStateJSONEncoder))"
   ]
  },
  {
   "cell_type": "code",
   "execution_count": null,
   "metadata": {
    "scrolled": false
   },
   "outputs": [],
   "source": [
    "\n",
    "from glue.core.state_objects import State\n",
    "from glue.core import BaseCartesianData, Subset, ComponentID\n",
    "from echo import CallbackList, CallbackDict\n",
    "\n",
    "\n",
    "changes = {}\n",
    "for name in dir(state):\n",
    "    if not name.startswith('_') and state.is_callback_property(name):\n",
    "        item = getattr(state, name)\n",
    "        if isinstance(item, CallbackList):\n",
    "            item = [state_to_dict(value) if isinstance(value, State) else value\n",
    "                    for value in item]\n",
    "        elif isinstance(item, CallbackDict):\n",
    "            item = {key: state_to_dict(value) if isinstance(value, State) else value\n",
    "                    for key, value in item.items()}\n",
    "        changes[name] = item\n",
    "    else:\n",
    "        if not callable(getattr(state, name)):\n",
    "            print(name)\n",
    "            print(getattr(state, name))\n",
    "changes"
   ]
  },
  {
   "cell_type": "code",
   "execution_count": null,
   "metadata": {},
   "outputs": [],
   "source": []
  }
 ],
 "metadata": {
  "kernelspec": {
   "display_name": "Python 3 (ipykernel)",
   "language": "python",
   "name": "python3"
  },
  "language_info": {
   "codemirror_mode": {
    "name": "ipython",
    "version": 3
   },
   "file_extension": ".py",
   "mimetype": "text/x-python",
   "name": "python",
   "nbconvert_exporter": "python",
   "pygments_lexer": "ipython3",
   "version": "3.9.13"
  },
  "vscode": {
   "interpreter": {
    "hash": "31f2aee4e71d21fbe5cf8b01ff0e069b9275f58929596ceb00d14d90e3e16cd6"
   }
  }
 },
 "nbformat": 4,
 "nbformat_minor": 2
}
