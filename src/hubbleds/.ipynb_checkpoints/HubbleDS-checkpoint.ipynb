    {
       "version_major": 2,
