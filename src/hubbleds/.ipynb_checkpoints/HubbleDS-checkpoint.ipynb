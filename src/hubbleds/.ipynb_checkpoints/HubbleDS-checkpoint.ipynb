{
 "cells": [
  {
   "cell_type": "code",
   "execution_count": 1,
   "metadata": {
    "pycharm": {
     "name": "#%%\n"
    },
    "scrolled": false
   },
   "outputs": [
    {
     "name": "stdout",
     "output_type": "stream",
     "text": [
      "Student ID: 3081\n",
      "Class ID: 0\n"
     ]
    },
    {
     "data": {
      "application/vnd.jupyter.widget-view+json": {
       "model_id": "55ca0b480591408d994cafad80cda60c",
       "version_major": 2,
       "version_minor": 0
      },
      "text/plain": [
       "Application(app_state=<ApplicationState\n",
       "  allow_advancing: True\n",
       "  classroom: {'id': 0}\n",
       "  dark_mode: True\n",
       "  sho…"
      ]
     },
     "metadata": {},
     "output_type": "display_data"
    },
    {
     "name": "stdout",
     "output_type": "stream",
     "text": [
      "(BqplotScatterLayerArtist for student_data, BqplotScatterLayerArtist for class_data, BqplotScatterLayerArtist for student_slider_subset)\n"
     ]
    }
   ],
   "source": [
    "from warnings import filterwarnings\n",
    "\n",
    "filterwarnings(action=\"ignore\", category=UserWarning)\n",
    "\n",
    "from cosmicds.app import Application\n",
    "\n",
    "# import os\n",
    "# os.environ[\"JUPYTERHUB_USER\"] = \"dummy_student_2698\"\n",
    "\n",
    "app = Application(story='hubbles_law', update_db=True, show_team_interface=True, allow_advancing=True, create_new_student=True)\n",
    "# app = Application(story='hubbles_law', update_db=True, show_team_interface=True, allow_advancing=True, student_id=3079)\n",
    "\n",
    "app"
   ]
  },
  {
   "cell_type": "code",
   "execution_count": 2,
   "metadata": {
    "pycharm": {
     "name": "#%%\n"
    }
   },
   "outputs": [],
   "source": [
    "# Run this to close the side menu\n",
    "# app.drawer= False"
   ]
  },
  {
   "cell_type": "code",
   "execution_count": 3,
   "metadata": {},
   "outputs": [],
   "source": [
    "# app.app_state.dark_mode = False"
   ]
  },
  {
   "cell_type": "code",
   "execution_count": null,
   "metadata": {},
   "outputs": [],
   "source": []
  }
 ],
 "metadata": {
  "kernelspec": {
   "display_name": "Python 3 (ipykernel)",
   "language": "python",
   "name": "python3"
  },
  "language_info": {
   "codemirror_mode": {
    "name": "ipython",
    "version": 3
   },
   "file_extension": ".py",
   "mimetype": "text/x-python",
   "name": "python",
   "nbconvert_exporter": "python",
   "pygments_lexer": "ipython3",
   "version": "3.8.8"
  },
  "vscode": {
   "interpreter": {
    "hash": "31f2aee4e71d21fbe5cf8b01ff0e069b9275f58929596ceb00d14d90e3e16cd6"
   }
  }
 },
 "nbformat": 4,
 "nbformat_minor": 2
}
