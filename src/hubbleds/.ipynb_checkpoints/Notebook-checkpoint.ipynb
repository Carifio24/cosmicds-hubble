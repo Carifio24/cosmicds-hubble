{
 "cells": [
  {
   "cell_type": "code",
   "execution_count": 1,
   "metadata": {
    "pycharm": {
     "name": "#%%\n"
    },
    "scrolled": false
   },
   "outputs": [
    {
     "data": {
      "application/vnd.jupyter.widget-view+json": {
       "model_id": "c5b68e2ce6b348059fc3a2655a0bd2b2",
       "version_major": 2,
       "version_minor": 0
      },
      "text/plain": [
       "Application(app_state=<ApplicationState\n",
       "  classroom: {'id': 0}\n",
       "  dark_mode: True\n",
       "  show_team_interface: True\n",
       " …"
      ]
     },
     "metadata": {},
     "output_type": "display_data"
    }
   ],
   "source": [
    "from warnings import filterwarnings\n",
    "\n",
    "filterwarnings(action=\"ignore\", category=UserWarning)\n",
    "\n",
    "from cosmicds.app import Application\n",
    "\n",
    "app = Application(story='hubbles_law', update_db=False, show_team_interface = True)\n",
    "\n",
    "app"
   ]
  },
  {
   "cell_type": "code",
   "execution_count": 2,
   "metadata": {
    "pycharm": {
     "name": "#%%\n"
    }
   },
   "outputs": [],
   "source": [
    "# Run this to close the side menu\n",
    "app.drawer= False"
   ]
  },
  {
   "cell_type": "code",
   "execution_count": null,
   "metadata": {},
   "outputs": [],
   "source": []
  }
 ],
 "metadata": {
  "kernelspec": {
   "display_name": "cosmicds",
   "language": "python",
   "name": "cosmicds"
  },
  "language_info": {
   "codemirror_mode": {
    "name": "ipython",
    "version": 3
   },
   "file_extension": ".py",
   "mimetype": "text/x-python",
   "name": "python",
   "nbconvert_exporter": "python",
   "pygments_lexer": "ipython3",
   "version": "3.9.13"
  },
  "vscode": {
   "interpreter": {
    "hash": "2a9923798064c60f3cb0c2cfa8b6d16059a63a3b8d64403b03865f93b55a5e84"
   }
  }
 },
 "nbformat": 4,
 "nbformat_minor": 2
}
